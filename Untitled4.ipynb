{
  "nbformat": 4,
  "nbformat_minor": 0,
  "metadata": {
    "colab": {
      "provenance": [],
      "authorship_tag": "ABX9TyNVqbCIsnjhZaBowgY+89E6",
      "include_colab_link": true
    },
    "kernelspec": {
      "name": "python3",
      "display_name": "Python 3"
    },
    "language_info": {
      "name": "python"
    }
  },
  "cells": [
    {
      "cell_type": "markdown",
      "metadata": {
        "id": "view-in-github",
        "colab_type": "text"
      },
      "source": [
        "<a href=\"https://colab.research.google.com/github/Jackis26/Actividad9/blob/main/Untitled4.ipynb\" target=\"_parent\"><img src=\"https://colab.research.google.com/assets/colab-badge.svg\" alt=\"Open In Colab\"/></a>"
      ]
    },
    {
      "cell_type": "code",
      "execution_count": 1,
      "metadata": {
        "colab": {
          "base_uri": "https://localhost:8080/"
        },
        "id": "2vSYa57kP9u4",
        "outputId": "139c9f3b-66a6-42b0-a6d5-c2156f330655"
      },
      "outputs": [
        {
          "output_type": "stream",
          "name": "stdout",
          "text": [
            "Horas de estudio: [2, 1, 3, 0]\n",
            "Asistencia: ['Sí', 'No', 'Sí', 'No']\n",
            "Puntaje: [70, 50, 85, 40]\n"
          ]
        }
      ],
      "source": [
        "import pandas as pd\n",
        "\n",
        "# Datos de entrenamiento\n",
        "horas = [2, 1, 3, 0]\n",
        "asistencia = ['Sí', 'No', 'Sí', 'No']\n",
        "puntaje = [70, 50, 85, 40]\n",
        "\n",
        "print(\"Horas de estudio:\", horas)\n",
        "print(\"Asistencia:\", asistencia)\n",
        "print(\"Puntaje:\", puntaje)\n",
        "\n",
        "# Convertimos a DataFrame para trabajar\n",
        "df = pd.DataFrame({\n",
        "    'Horas': horas,\n",
        "    'Asistencia': asistencia,\n",
        "    'Puntaje': puntaje\n",
        "})\n"
      ]
    },
    {
      "cell_type": "code",
      "source": [
        "df = pd.get_dummies(df, columns=['Asistencia'])\n",
        "print(\"Datos con One-Hot Encoding:\")\n",
        "print(df.values.tolist())\n"
      ],
      "metadata": {
        "colab": {
          "base_uri": "https://localhost:8080/"
        },
        "id": "T6KW5R98QHkS",
        "outputId": "3bac9faa-b38b-4ee9-8ccc-efc1c8addbbc"
      },
      "execution_count": 2,
      "outputs": [
        {
          "output_type": "stream",
          "name": "stdout",
          "text": [
            "Datos con One-Hot Encoding:\n",
            "[[2, 70, False, True], [1, 50, True, False], [3, 85, False, True], [0, 40, True, False]]\n"
          ]
        }
      ]
    },
    {
      "cell_type": "code",
      "source": [
        "import numpy as np\n",
        "\n",
        "X = df[['Horas', 'Asistencia_No', 'Asistencia_Sí']].values.astype(float)\n",
        "Y = df[['Puntaje']].values.astype(float)\n",
        "\n",
        "print(\"Entradas X:\", X.tolist())\n",
        "print(\"Salidas Y:\", Y.flatten().tolist())\n"
      ],
      "metadata": {
        "colab": {
          "base_uri": "https://localhost:8080/"
        },
        "id": "bpMz_KpQQSW_",
        "outputId": "aa46d62e-f4e4-411b-97f3-c97ba99db585"
      },
      "execution_count": 3,
      "outputs": [
        {
          "output_type": "stream",
          "name": "stdout",
          "text": [
            "Entradas X: [[2.0, 0.0, 1.0], [1.0, 1.0, 0.0], [3.0, 0.0, 1.0], [0.0, 1.0, 0.0]]\n",
            "Salidas Y: [70.0, 50.0, 85.0, 40.0]\n"
          ]
        }
      ]
    },
    {
      "cell_type": "code",
      "source": [
        "max_X = X.max(axis=0)\n",
        "max_X[max_X == 0] = 1.0\n",
        "max_Y = Y.max() if Y.max() != 0 else 1.0\n",
        "\n",
        "X_norm = X / max_X\n",
        "Y_norm = Y / max_Y\n",
        "\n",
        "print(\"Entradas normalizadas X_norm:\", X_norm.tolist())\n",
        "print(\"Salidas normalizadas Y_norm:\", Y_norm.flatten().tolist())\n"
      ],
      "metadata": {
        "colab": {
          "base_uri": "https://localhost:8080/"
        },
        "id": "2RZIRfzkQUC-",
        "outputId": "8b28bf4d-3c59-4d13-93a3-d922fd213f1c"
      },
      "execution_count": 5,
      "outputs": [
        {
          "output_type": "stream",
          "name": "stdout",
          "text": [
            "Entradas normalizadas X_norm: [[0.6666666666666666, 0.0, 1.0], [0.3333333333333333, 1.0, 0.0], [1.0, 0.0, 1.0], [0.0, 1.0, 0.0]]\n",
            "Salidas normalizadas Y_norm: [0.8235294117647058, 0.5882352941176471, 1.0, 0.47058823529411764]\n"
          ]
        }
      ]
    },
    {
      "cell_type": "code",
      "source": [
        "model.fit(X_norm, Y_norm, epochs=500, verbose=0)\n",
        "loss = model.evaluate(X_norm, Y_norm, verbose=0)\n",
        "print(\"Pérdida final (loss):\", loss)\n"
      ],
      "metadata": {
        "colab": {
          "base_uri": "https://localhost:8080/"
        },
        "id": "tw-zUtYhQeq_",
        "outputId": "88de8cdf-70e8-486a-e582-4776035d2002"
      },
      "execution_count": 7,
      "outputs": [
        {
          "output_type": "stream",
          "name": "stdout",
          "text": [
            "Pérdida final (loss): 0.0032528392039239407\n"
          ]
        }
      ]
    },
    {
      "cell_type": "code",
      "source": [
        "def predecir_puntaje(horas, asistencia):\n",
        "    a = asistencia.strip().lower()\n",
        "    if a in ['sí', 'si', 's', 'sí']:\n",
        "        asist_no, asist_si = 0.0, 1.0\n",
        "    else:\n",
        "        asist_no, asist_si = 1.0, 0.0\n",
        "    x = np.array([[horas, asist_no, asist_si]], dtype=float)\n",
        "    x_norm = x / max_X\n",
        "    y_norm = model.predict(x_norm, verbose=0)\n",
        "    y = y_norm[0,0] * max_Y\n",
        "    return y\n",
        "\n",
        "# Pedir valores\n",
        "horas_in = float(input(\"Ingrese horas de estudio: \"))\n",
        "asis_in = input(\"¿Asistió a clases? (Sí/No): \")\n",
        "\n",
        "resultado = predecir_puntaje(horas_in, asis_in)\n",
        "print(f\"Puntaje estimado: {resultado:.2f}\")\n"
      ],
      "metadata": {
        "colab": {
          "base_uri": "https://localhost:8080/"
        },
        "id": "q8qDxu1BQwBj",
        "outputId": "7c2edcaa-26fe-451f-f9bc-f62b57cdf212"
      },
      "execution_count": 9,
      "outputs": [
        {
          "output_type": "stream",
          "name": "stdout",
          "text": [
            "Ingrese horas de estudio: 2\n",
            "¿Asistió a clases? (Sí/No): si\n",
            "Puntaje estimado: 73.84\n"
          ]
        }
      ]
    }
  ]
}